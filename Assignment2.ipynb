{
  "nbformat": 4,
  "nbformat_minor": 0,
  "metadata": {
    "colab": {
      "provenance": [],
      "authorship_tag": "ABX9TyMuQ53zgdilf04Y9Kb9T/Au",
      "include_colab_link": true
    },
    "kernelspec": {
      "name": "python3",
      "display_name": "Python 3"
    },
    "language_info": {
      "name": "python"
    }
  },
  "cells": [
    {
      "cell_type": "markdown",
      "metadata": {
        "id": "view-in-github",
        "colab_type": "text"
      },
      "source": [
        "<a href=\"https://colab.research.google.com/github/deliablendea/Neural-Networks-Ioana-Delia-Blendea-2025/blob/main/Assignment2.ipynb\" target=\"_parent\"><img src=\"https://colab.research.google.com/assets/colab-badge.svg\" alt=\"Open In Colab\"/></a>"
      ]
    },
    {
      "cell_type": "markdown",
      "source": [
        "# Assignment 2 (15 points) - Ioana-Delia Blendea"
      ],
      "metadata": {
        "id": "N3zrVIxbkwIi"
      }
    },
    {
      "cell_type": "code",
      "execution_count": null,
      "metadata": {
        "id": "qhUBLzb_kFGQ"
      },
      "outputs": [],
      "source": [
        "import pickle\n",
        "import numpy as np\n",
        "import pandas as pd"
      ]
    },
    {
      "cell_type": "code",
      "source": [
        "train_file = \"/kaggle/input/fii-nn-2025-homework-2/extended_mnist_train.pkl\"\n",
        "test_file = \"/kaggle/input/fii-nn-2025-homework-2/extended_mnist_test.pkl\"\n",
        "\n",
        "with open(train_file, \"rb\") as fp:\n",
        "    train = pickle.load(fp)\n",
        "\n",
        "with open(test_file, \"rb\") as fp:\n",
        "    test = pickle.load(fp)"
      ],
      "metadata": {
        "id": "PQDUvNBpkPLt"
      },
      "execution_count": null,
      "outputs": []
    },
    {
      "cell_type": "code",
      "source": [
        "train_data = []\n",
        "train_labels = []\n",
        "for image, label in train:\n",
        "    train_data.append(image.flatten())\n",
        "    train_labels.append(label)\n",
        "\n",
        "test_data = []\n",
        "test_labels = []\n",
        "for image, label in test:\n",
        "    test_data.append(image.flatten())\n",
        "    test_labels.append(label)\n",
        "\n",
        "train_x = np.array(train_data) / 255.0\n",
        "test_x = np.array(test_data) / 255.0"
      ],
      "metadata": {
        "id": "08VlujZ9kSy9"
      },
      "execution_count": null,
      "outputs": []
    },
    {
      "cell_type": "code",
      "source": [
        "def convert_labels(labels):\n",
        "    labels = np.array(labels).astype(int)\n",
        "    classes = 10\n",
        "    matrix = np.zeros((labels.shape[0], classes))\n",
        "    matrix[np.arange(labels.shape[0]), labels] = 1\n",
        "\n",
        "    return matrix\n",
        "\n",
        "train_y = convert_labels(train_labels)\n",
        "test_y = convert_labels(test_labels)"
      ],
      "metadata": {
        "id": "SAp0bmmfkUTE"
      },
      "execution_count": null,
      "outputs": []
    },
    {
      "cell_type": "code",
      "source": [
        "w = np.random.randn(784, 10) * 0.01\n",
        "b = np.zeros(10)\n",
        "\n",
        "def softmax(z):\n",
        "    exp_z = np.exp(z - np.max(z, axis = 1, keepdims = True))\n",
        "    return exp_z / exp_z.sum(axis = 1, keepdims = True)\n",
        "\n",
        "def cross_entropy_loss(y, y_pred):\n",
        "    eps = 1e-8\n",
        "    return -np.sum(y * np.log(y_pred + eps)) / y.shape[0]\n",
        "\n",
        "def gradient_descent(x, y, w, b, learning_rate = 0.01):\n",
        "    # forward propagation\n",
        "    y_pred = softmax(np.dot(x, w) + b)\n",
        "\n",
        "    # target - y\n",
        "    error = y_pred - y\n",
        "\n",
        "    w = w - learning_rate * np.dot(x.transpose(), error) / x.shape[0]\n",
        "    b = b - learning_rate * np.sum(error, axis = 0) / x.shape[0]\n",
        "\n",
        "    loss = cross_entropy_loss(y, y_pred)\n",
        "\n",
        "    return w, b, loss"
      ],
      "metadata": {
        "id": "yBNngByqkVtR"
      },
      "execution_count": null,
      "outputs": []
    },
    {
      "cell_type": "code",
      "source": [
        "def train(train_x, train_y, w, b, epochs = 100, batch_size = 128, learning_rate = 0.15):\n",
        "    num_batches = int(np.ceil(train_x.shape[0] / batch_size))\n",
        "\n",
        "    for epoch in range(epochs):\n",
        "        epoch_loss = 0\n",
        "\n",
        "        permutation = np.random.permutation(train_x.shape[0])\n",
        "        shuffled_x = train_x[permutation]\n",
        "        shuffled_y = train_y[permutation]\n",
        "\n",
        "        for i in range(num_batches):\n",
        "            start = i * batch_size\n",
        "            end = min(start + batch_size, train_x.shape[0])\n",
        "\n",
        "            x_batch = shuffled_x[start:end]\n",
        "            y_batch = shuffled_y[start:end]\n",
        "\n",
        "            w, b, batch_loss = gradient_descent(x_batch, y_batch, w, b, learning_rate)\n",
        "            epoch_loss = epoch_loss + batch_loss\n",
        "\n",
        "        epoch_loss = epoch_loss / num_batches\n",
        "        print(f\"Epoch {epoch + 1} / {epochs}, Loss: {epoch_loss:.4f}\")\n",
        "\n",
        "    return w, b\n",
        "\n",
        "w,b = train(train_x, train_y, w, b, epochs = 100, batch_size = 128, learning_rate = 0.15)\n",
        "\n",
        "def accuracy(x, y, w, b):\n",
        "    y_pred = softmax(np.dot(x, w) + b)\n",
        "    predicted_classes = np.argmax(y_pred, axis = 1)\n",
        "    true_classes = np.argmax(y, axis = 1)\n",
        "    return np.mean(predicted_classes == true_classes)\n",
        "\n",
        "test_accuracy = accuracy(test_x, test_y, w, b)\n",
        "print(f\"Testing Data Accuracy: {test_accuracy * 100:.2f}%\")\n",
        "\n",
        "final_predictions_probs = softmax(np.dot(test_x, w) + b)\n",
        "predictions = np.argmax(final_predictions_probs, axis = 1)"
      ],
      "metadata": {
        "id": "vGj3C5bGkYB1"
      },
      "execution_count": null,
      "outputs": []
    },
    {
      "cell_type": "code",
      "source": [
        "# This is how you prepare a submission for the competition\n",
        "predictions_csv = {\n",
        "    \"ID\": [],\n",
        "    \"target\": [],\n",
        "}\n",
        "\n",
        "for i, label in enumerate(predictions):\n",
        "    predictions_csv[\"ID\"].append(i)\n",
        "    predictions_csv[\"target\"].append(label)\n",
        "\n",
        "df = pd.DataFrame(predictions_csv)\n",
        "df.to_csv(\"submission.csv\", index=False)"
      ],
      "metadata": {
        "id": "zqC51WAmkaLZ"
      },
      "execution_count": null,
      "outputs": []
    }
  ]
}